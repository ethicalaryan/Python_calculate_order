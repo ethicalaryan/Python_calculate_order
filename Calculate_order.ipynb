{
 "cells": [
  {
   "cell_type": "markdown",
   "id": "2dfb9aef",
   "metadata": {},
   "source": [
    "#Write a Program that takes a dictionary of products with their prices and a dictionary of orders (product name:quantity) and returns the total cost and a summary of the order."
   ]
  },
  {
   "cell_type": "code",
   "execution_count": 1,
   "id": "fc75b893",
   "metadata": {},
   "outputs": [
    {
     "name": "stdout",
     "output_type": "stream",
     "text": [
      "Order Summary:\n",
      "Apple: 4 x $0.50 = $2.00\n",
      "Banana: 2 x $0.30 = $0.60\n",
      "Milk: 1 x $1.50 = $1.50\n",
      "Bread: Not available\n",
      "Total Cost: $4.10\n"
     ]
    }
   ],
   "source": [
    "\n",
    "products = {\n",
    "    \"Apple\": 0.5,\n",
    "    \"Banana\": 0.3,\n",
    "    \"Orange\": 0.7,\n",
    "    \"Milk\": 1.5\n",
    "}\n",
    "\n",
    "orders = {\n",
    "    \"Apple\": 4,\n",
    "    \"Banana\": 2,\n",
    "    \"Milk\": 1,\n",
    "    \"Bread\": 1  # Not available in products\n",
    "}\n",
    "\n",
    "\n",
    "def calculate_order_total(products, orders):\n",
    "    total_cost = 0\n",
    "    order_summary = []\n",
    "    \n",
    "    for product, quantity in orders.items():\n",
    "        if product in products:\n",
    "            cost = products[product] * quantity\n",
    "            total_cost += cost\n",
    "            order_summary.append(f\"{product}: {quantity} x ${products[product]:.2f} = ${cost:.2f}\")\n",
    "        else:\n",
    "            order_summary.append(f\"{product}: Not available\")\n",
    "    \n",
    "    return total_cost, \"\\n\".join(order_summary)\n",
    "\n",
    "\n",
    "total, summary = calculate_order_total(products, orders)\n",
    "print(\"Order Summary:\")\n",
    "print(summary)\n",
    "print(f\"Total Cost: ${total:.2f}\")"
   ]
  },
  {
   "cell_type": "code",
   "execution_count": null,
   "id": "ed610661",
   "metadata": {},
   "outputs": [],
   "source": []
  }
 ],
 "metadata": {
  "kernelspec": {
   "display_name": "Python 3 (ipykernel)",
   "language": "python",
   "name": "python3"
  },
  "language_info": {
   "codemirror_mode": {
    "name": "ipython",
    "version": 3
   },
   "file_extension": ".py",
   "mimetype": "text/x-python",
   "name": "python",
   "nbconvert_exporter": "python",
   "pygments_lexer": "ipython3",
   "version": "3.9.7"
  }
 },
 "nbformat": 4,
 "nbformat_minor": 5
}
