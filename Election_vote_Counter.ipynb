{
 "cells": [
  {
   "cell_type": "markdown",
   "id": "c2dcf991",
   "metadata": {},
   "source": [
    "Election Vote Counter Given a list of votes where each vote is a string (candidate name), write a function to count the votes and return the winner using a dictionary"
   ]
  },
  {
   "cell_type": "code",
   "execution_count": 1,
   "id": "0b24766d",
   "metadata": {},
   "outputs": [
    {
     "name": "stdout",
     "output_type": "stream",
     "text": [
      "This Election Commision of India Based Counting Result\n",
      "{'Aryan': 3, 'KK': 2}\n",
      "The winner is Aryan\n"
     ]
    }
   ],
   "source": [
    "votes = [\"Aryan\", \"KK\", \"Aryan\", \"KK\", \"Aryan\"]\n",
    "vote_count = {}\n",
    "for a in votes:\n",
    "        if a in vote_count:\n",
    "            vote_count[a] += 1\n",
    "        else:\n",
    "            vote_count[a] = 1\n",
    "            \n",
    "        winner = max(vote_count, key=vote_count.get)\n",
    "    \n",
    "\n",
    "print(\"This Election Commision of India Based Counting Result\")    \n",
    "print(vote_count)    \n",
    "print(f\"The winner is {winner}\")"
   ]
  },
  {
   "cell_type": "code",
   "execution_count": null,
   "id": "4f7c76eb",
   "metadata": {},
   "outputs": [],
   "source": []
  }
 ],
 "metadata": {
  "kernelspec": {
   "display_name": "Python 3 (ipykernel)",
   "language": "python",
   "name": "python3"
  },
  "language_info": {
   "codemirror_mode": {
    "name": "ipython",
    "version": 3
   },
   "file_extension": ".py",
   "mimetype": "text/x-python",
   "name": "python",
   "nbconvert_exporter": "python",
   "pygments_lexer": "ipython3",
   "version": "3.9.7"
  }
 },
 "nbformat": 4,
 "nbformat_minor": 5
}
